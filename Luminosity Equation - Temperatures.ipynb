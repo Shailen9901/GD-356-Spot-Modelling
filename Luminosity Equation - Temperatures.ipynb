{
 "cells": [
  {
   "cell_type": "code",
   "execution_count": 1,
   "metadata": {},
   "outputs": [],
   "source": [
    "import matplotlib.pyplot as plt\n",
    "import numpy as np\n",
    "from matplotlib.pyplot import figure"
   ]
  },
  {
   "cell_type": "code",
   "execution_count": 2,
   "metadata": {},
   "outputs": [],
   "source": [
    "T_star = 7510"
   ]
  },
  {
   "cell_type": "markdown",
   "metadata": {},
   "source": [
    "# 30 Degrees"
   ]
  },
  {
   "cell_type": "code",
   "execution_count": 3,
   "metadata": {},
   "outputs": [],
   "source": [
    "contrast = np.array([0.04618, 0.05509, 0.06984, 0.08973, 0.10118, 0.12773, 0.23164, 0.21885, 0.28845, 0.20529, 0.73682,\\\n",
    "                     0.49299, 0.85734, 0.99324])\n",
    "\n",
    "c = 1 - contrast"
   ]
  },
  {
   "cell_type": "code",
   "execution_count": 4,
   "metadata": {},
   "outputs": [],
   "source": [
    "def Spot_Temp(radius, contrasts):\n",
    "    \n",
    "    A_spot = radius/180  \n",
    "    \n",
    "    root = c * (1 - A_spot) / A_spot\n",
    "    \n",
    "    T_spot = np.power(root, (1/4)) * T_star\n",
    "    \n",
    "    return T_spot"
   ]
  },
  {
   "cell_type": "code",
   "execution_count": 6,
   "metadata": {},
   "outputs": [],
   "source": [
    "spot_30 = Spot_Temp(30, c)"
   ]
  },
  {
   "cell_type": "code",
   "execution_count": 7,
   "metadata": {},
   "outputs": [
    {
     "data": {
      "text/plain": [
       "array([11098.11049041, 11072.10127028, 11028.63726662, 10969.20102423,\n",
       "       10934.54257664, 10852.88427429, 10514.13684135, 10557.62050956,\n",
       "       10314.15832929, 10603.14273063,  8043.51097513,  9476.25130361,\n",
       "        6901.73043851,  3220.09816995])"
      ]
     },
     "execution_count": 7,
     "metadata": {},
     "output_type": "execute_result"
    }
   ],
   "source": [
    "spot_30"
   ]
  },
  {
   "cell_type": "code",
   "execution_count": 8,
   "metadata": {},
   "outputs": [],
   "source": [
    " A_spot = 30/180\n",
    "    \n",
    "root = c * (1 - A_spot) / A_spot\n",
    "\n",
    "T_spot = np.power(root, (1/4)) * T_star"
   ]
  },
  {
   "cell_type": "code",
   "execution_count": 10,
   "metadata": {},
   "outputs": [
    {
     "data": {
      "text/plain": [
       "array([4.7691 , 4.72455, 4.6508 , 4.55135, 4.4941 , 4.36135, 3.8418 ,\n",
       "       3.90575, 3.55775, 3.97355, 1.3159 , 2.53505, 0.7133 , 0.0338 ])"
      ]
     },
     "execution_count": 10,
     "metadata": {},
     "output_type": "execute_result"
    }
   ],
   "source": [
    "root"
   ]
  },
  {
   "cell_type": "code",
   "execution_count": 13,
   "metadata": {},
   "outputs": [
    {
     "data": {
      "text/plain": [
       "array([1.4777777 , 1.47431442, 1.46852693, 1.46061265, 1.45599768,\n",
       "       1.4451244 , 1.40001822, 1.40580832, 1.37338992, 1.41186987,\n",
       "       1.07104008, 1.26181775, 0.91900538, 0.42877472])"
      ]
     },
     "execution_count": 13,
     "metadata": {},
     "output_type": "execute_result"
    }
   ],
   "source": [
    "np.power(root, (1/4))"
   ]
  },
  {
   "cell_type": "code",
   "execution_count": 14,
   "metadata": {},
   "outputs": [
    {
     "data": {
      "text/plain": [
       "array([0.95382, 0.94491, 0.93016, 0.91027, 0.89882, 0.87227, 0.76836,\n",
       "       0.78115, 0.71155, 0.79471, 0.26318, 0.50701, 0.14266, 0.00676])"
      ]
     },
     "execution_count": 14,
     "metadata": {},
     "output_type": "execute_result"
    }
   ],
   "source": [
    "c"
   ]
  },
  {
   "cell_type": "markdown",
   "metadata": {},
   "source": [
    "# 35 Degrees"
   ]
  },
  {
   "cell_type": "code",
   "execution_count": 16,
   "metadata": {},
   "outputs": [],
   "source": [
    "contrast = np.array([0.04598, 0.0512, 0.06449, 0.08323, 0.09434, 0.11743, 0.21353, 0.20186, 0.26473, 0.18969, 0.6573,\\\n",
    "                     0.44579, 0.76041, 0.99196])\n",
    "\n",
    "c = 1 - contrast"
   ]
  },
  {
   "cell_type": "code",
   "execution_count": 19,
   "metadata": {},
   "outputs": [
    {
     "data": {
      "text/plain": [
       "array([10588.98410288, 10574.46966004, 10537.24395996, 10484.07272283,\n",
       "       10452.16418677, 10384.89755642, 10089.86758397, 10127.09060746,\n",
       "        9921.48404023, 10165.47615813,  8197.72702263,  9244.50189742,\n",
       "        7496.04350401,  3208.32930866])"
      ]
     },
     "execution_count": 19,
     "metadata": {},
     "output_type": "execute_result"
    }
   ],
   "source": [
    "spot_35 = Spot_Temp(35, c)\n",
    "spot_35"
   ]
  },
  {
   "cell_type": "markdown",
   "metadata": {},
   "source": [
    "# 40 Degrees"
   ]
  },
  {
   "cell_type": "code",
   "execution_count": 20,
   "metadata": {},
   "outputs": [],
   "source": [
    "contrast = np.array([0.04154, 0.04585, 0.05769 ,0.07444, 0.08435, 0.10479, 0.1899, 0.17965, 0.23492, 0.16888, 0.57465,\\\n",
    "                     0.39317, 0.66251, 0.97878])\n",
    "\n",
    "c = 1 - contrast"
   ]
  },
  {
   "cell_type": "code",
   "execution_count": 21,
   "metadata": {},
   "outputs": [
    {
     "data": {
      "text/plain": [
       "array([10163.6674407 , 10152.2221352 , 10120.57990442, 10075.30245861,\n",
       "       10048.22434747,  9991.67224017,  9745.21906425,  9775.89984872,\n",
       "        9606.90863409,  9807.82891222,  8295.51890471,  9066.16688048,\n",
       "        7829.28631403,  3920.51656321])"
      ]
     },
     "execution_count": 21,
     "metadata": {},
     "output_type": "execute_result"
    }
   ],
   "source": [
    "spot_40 = Spot_Temp(40, c)\n",
    "spot_40"
   ]
  },
  {
   "cell_type": "markdown",
   "metadata": {},
   "source": [
    "# 45 Degrees"
   ]
  },
  {
   "cell_type": "code",
   "execution_count": 22,
   "metadata": {},
   "outputs": [],
   "source": [
    "contrast = np.array([0.04899, 0.05314, 0.06663, 0.08586, 0.09746, 0.11978, 0.21508, 0.2038, 0.26399, 0.19201, 0.60971,\\\n",
    "                     0.42923, 0.69243, 0.98045])\n",
    "\n",
    "c = 1 - contrast"
   ]
  },
  {
   "cell_type": "code",
   "execution_count": 23,
   "metadata": {},
   "outputs": [
    {
     "data": {
      "text/plain": [
       "array([9760.37539836, 9749.70989243, 9714.79655524, 9664.3673371 ,\n",
       "       9633.56130295, 9573.44085915, 9303.07665565, 9336.32140531,\n",
       "       9154.63807768, 9370.6938039 , 7812.087638  , 8590.83811395,\n",
       "       7360.48181139, 3695.78706489])"
      ]
     },
     "execution_count": 23,
     "metadata": {},
     "output_type": "execute_result"
    }
   ],
   "source": [
    "spot_45 = Spot_Temp(45, c)\n",
    "spot_45"
   ]
  },
  {
   "cell_type": "code",
   "execution_count": null,
   "metadata": {},
   "outputs": [],
   "source": []
  }
 ],
 "metadata": {
  "kernelspec": {
   "display_name": "Python 3",
   "language": "python",
   "name": "python3"
  },
  "language_info": {
   "codemirror_mode": {
    "name": "ipython",
    "version": 3
   },
   "file_extension": ".py",
   "mimetype": "text/x-python",
   "name": "python",
   "nbconvert_exporter": "python",
   "pygments_lexer": "ipython3",
   "version": "3.8.3"
  }
 },
 "nbformat": 4,
 "nbformat_minor": 4
}
